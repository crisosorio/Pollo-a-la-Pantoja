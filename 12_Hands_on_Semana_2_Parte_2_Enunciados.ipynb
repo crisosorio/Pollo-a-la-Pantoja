{
  "nbformat": 4,
  "nbformat_minor": 0,
  "metadata": {
    "kernelspec": {
      "display_name": "PySpark23 - Python 3 - PFM",
      "language": "python",
      "name": "pyspark23python3pfm"
    },
    "colab": {
      "provenance": [],
      "include_colab_link": true
    }
  },
  "cells": [
    {
      "cell_type": "markdown",
      "metadata": {
        "id": "view-in-github",
        "colab_type": "text"
      },
      "source": [
        "<a href=\"https://colab.research.google.com/github/crisosorio/Pollo-a-la-Pantoja/blob/main/12_Hands_on_Semana_2_Parte_2_Enunciados.ipynb\" target=\"_parent\"><img src=\"https://colab.research.google.com/assets/colab-badge.svg\" alt=\"Open In Colab\"/></a>"
      ]
    },
    {
      "cell_type": "markdown",
      "metadata": {
        "id": "o2LCmiK6X2Dj"
      },
      "source": [
        "1. Encuenta todos los números entre el 1 y el 1000 divisibles por 8 usando comprensión de listas"
      ]
    },
    {
      "cell_type": "code",
      "metadata": {
        "id": "17CKDCsyHXyI"
      },
      "source": [],
      "execution_count": null,
      "outputs": []
    },
    {
      "cell_type": "code",
      "metadata": {
        "id": "aLq1Tq11sQih"
      },
      "source": [],
      "execution_count": null,
      "outputs": []
    },
    {
      "cell_type": "markdown",
      "metadata": {
        "id": "wQgaZi5xX2Dj"
      },
      "source": [
        "2. Crear una función para validación de nombres de usuarios. Dicho módulo, deberá cumplir con los siguientes criterios de aceptación:\n",
        "\n",
        "- El nombre de usuario debe contener un mínimo de 6 caracteres y un máximo de 12\n",
        "- Nombre de usuario con menos de 6 caracteres, retorna el mensaje \"El nombre de usuario debe contener al menos 6 caracteres\".\n",
        "- Nombre de usuario con más de 12 caracteres, retorna el mensaje \"El nombre de usuario no puede contener más de 12 caracteres\".\n",
        "- Nombre de usuario válido, retorna True."
      ]
    },
    {
      "cell_type": "code",
      "metadata": {
        "id": "J90ImNjhHWz7"
      },
      "source": [],
      "execution_count": null,
      "outputs": []
    },
    {
      "cell_type": "code",
      "metadata": {
        "id": "OkwRWDjY6j98"
      },
      "source": [],
      "execution_count": null,
      "outputs": []
    },
    {
      "cell_type": "markdown",
      "metadata": {
        "id": "YCO6eSVyX2Dk"
      },
      "source": [
        "3. Para tributar un determinado impuesto se debe ser mayor de 16 años y tener unos ingresos iguales o superiores a 1000 € mensuales. Escribir una función que pregunte al usuario su edad y sus ingresos mensuales y muestre por pantalla si el usuario tiene que tributar o no."
      ]
    },
    {
      "cell_type": "code",
      "metadata": {
        "id": "PAKEO9p1HXiJ"
      },
      "source": [
        "\n"
      ],
      "execution_count": null,
      "outputs": []
    },
    {
      "cell_type": "code",
      "metadata": {
        "id": "ZMR92_Ll3ZpP"
      },
      "source": [],
      "execution_count": null,
      "outputs": []
    },
    {
      "cell_type": "markdown",
      "metadata": {
        "id": "tE7znkhIX2Dk"
      },
      "source": [
        "4. Los alumnos de un curso se han dividido en dos grupos A y B de acuerdo al sexo y al orden de matriculación. El grupo A esta formado por las mujeres con un orden de matriculación par y los hombres con un orden de matriculación impar y el grupo B por el resto. Escribir una función que dados el sexo y orden de matriculación de un alumnos muestre por pantalla el grupo que le corresponde."
      ]
    },
    {
      "cell_type": "code",
      "metadata": {
        "id": "TlGixvHhHYZ7"
      },
      "source": [
        "\n"
      ],
      "execution_count": null,
      "outputs": []
    },
    {
      "cell_type": "code",
      "metadata": {
        "id": "3E6Rf8rWenV5"
      },
      "source": [],
      "execution_count": null,
      "outputs": []
    },
    {
      "cell_type": "markdown",
      "metadata": {
        "id": "nkCiS2maX2Dl"
      },
      "source": [
        "5. Los tramos impositivos para la declaración de la renta en un determinado país son los siguientes:\n",
        "\n",
        "Renta\tTipo impositivo\n",
        "- Menos de 10000€\t5%\n",
        "- Entre 10000€ y 20000€\t15%\n",
        "- Entre 20000€ y 35000€\t20%\n",
        "- Entre 35000€ y 60000€\t30%\n",
        "- Más de 60000€\t45%\n",
        "\n",
        "Escribir una función que pregunte al usuario su renta anual y muestre por pantalla el tipo impositivo que le corresponde."
      ]
    },
    {
      "cell_type": "code",
      "metadata": {
        "id": "wXqhq1qaZmCv"
      },
      "source": [
        "\n"
      ],
      "execution_count": null,
      "outputs": []
    },
    {
      "cell_type": "code",
      "metadata": {
        "id": "5D_Ig0pLHZ3_"
      },
      "source": [],
      "execution_count": null,
      "outputs": []
    },
    {
      "cell_type": "markdown",
      "metadata": {
        "id": "vWoQnzOwX2Dl"
      },
      "source": [
        "6. Escribir una función para una empresa que tiene salas de juegos para todas las edades y quiere calcular de forma automática el precio que debe cobrar a sus clientes por entrar. El programa debe preguntar al usuario la edad del cliente y mostrar el precio de la entrada. Si el cliente es menor de 4 años puede entrar gratis, si tiene entre 4 y 18 años debe pagar 5€ y si es mayor de 18 años, 10€."
      ]
    },
    {
      "cell_type": "code",
      "metadata": {
        "id": "DrnAmuMdHaQe"
      },
      "source": [],
      "execution_count": null,
      "outputs": []
    },
    {
      "cell_type": "markdown",
      "metadata": {
        "id": "f7pNJ89NX2Dm"
      },
      "source": [
        "7. La pizzería Bella Napoli ofrece pizzas vegetarianas y no vegetarianas a sus clientes. Los ingredientes para cada tipo de pizza aparecen a continuación.\n",
        "\n",
        "Ingredientes vegetarianos: Pimiento, tofu, tomate y mozzarella.\n",
        "\n",
        "Ingredientes no vegetarianos: Peperoni, Jamón y Salmón.\n",
        "\n",
        "Escribir una función que, dada la lista de ingredientes de la pizza que quiere pedir el cliente, indique qué ingredientes son vegetarianos y cuales no"
      ]
    },
    {
      "cell_type": "code",
      "metadata": {
        "id": "hkmq3MZzHbL3"
      },
      "source": [],
      "execution_count": null,
      "outputs": []
    },
    {
      "cell_type": "markdown",
      "metadata": {
        "id": "C5RxzYPmeuy6"
      },
      "source": [
        "8. Escribe una función que calcule el factorial de un número"
      ]
    },
    {
      "cell_type": "markdown",
      "metadata": {
        "id": "9radre1Uezlz"
      },
      "source": [
        "El factorial es la multiplicación de todos los números precedentes al dado hasta el 1, por ejemplo:\n",
        "5! = 5 * 4 * 3 * 2 * 1\n",
        "\n",
        "Dos características importantes que debe contemplar la función es que:\n",
        "- El factorial de los números negativos no existe\n",
        "- El factorial de 0 es 1"
      ]
    },
    {
      "cell_type": "code",
      "source": [],
      "metadata": {
        "id": "W-5FMkc65G_3"
      },
      "execution_count": null,
      "outputs": []
    },
    {
      "cell_type": "code",
      "metadata": {
        "id": "r0KLsbDvHbkd"
      },
      "source": [],
      "execution_count": null,
      "outputs": []
    },
    {
      "cell_type": "markdown",
      "metadata": {
        "id": "o87uHDujfCJA"
      },
      "source": [
        "9. Dado el siguiente diccionario con los nombres de los alumnos y sus calificaciones, programar una función que devuelva la lista de aprobados y la lista de suspensos"
      ]
    },
    {
      "cell_type": "code",
      "source": [
        "dict = {\"Ana\": 7, \"Pedro\": 3, \"Juan\": 9, \"María\": 4, \"Fátima\": 10, \"Alberto\": 1}"
      ],
      "metadata": {
        "id": "TyJfJaYD5JJc"
      },
      "execution_count": null,
      "outputs": []
    },
    {
      "cell_type": "code",
      "metadata": {
        "id": "WEUI3rz6Hb6X"
      },
      "source": [],
      "execution_count": null,
      "outputs": []
    },
    {
      "cell_type": "markdown",
      "metadata": {
        "id": "TKWSdVrjmGQD"
      },
      "source": [
        "10. Usando un bucle while calcula la suma de los elementos de la siguiente lista:"
      ]
    },
    {
      "cell_type": "code",
      "source": [
        "lista = [3, 22, 17, 4, 7]"
      ],
      "metadata": {
        "id": "OEtJzLyw5KzU"
      },
      "execution_count": null,
      "outputs": []
    },
    {
      "cell_type": "code",
      "metadata": {
        "id": "8y3RE2JYHchB"
      },
      "source": [],
      "execution_count": null,
      "outputs": []
    },
    {
      "cell_type": "markdown",
      "metadata": {
        "id": "l2S2l7fTm7-A"
      },
      "source": [
        "11. Genera con un bucle while la lista de los primeros 100 números naturales, extrae después usando comprensión de listas una nueva lista con los números impares"
      ]
    },
    {
      "cell_type": "code",
      "metadata": {
        "id": "iBmvRg9BHdXj"
      },
      "source": [],
      "execution_count": null,
      "outputs": []
    }
  ]
}